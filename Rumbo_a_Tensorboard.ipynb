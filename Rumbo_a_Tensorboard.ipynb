{
 "cells": [
  {
   "cell_type": "markdown",
   "id": "a0216052",
   "metadata": {},
   "source": [
    "# Trabajar con Tensorboard, a través de Keras y Tensorflow"
   ]
  },
  {
   "cell_type": "markdown",
   "id": "126b72d5",
   "metadata": {},
   "source": [
    "<font size=4>\n",
    "    En este notebook vamos a presentar las características básicas para poder trabajar con Tensorboard usando el front-end de Keras y el de Tensorflow. Si bien ya está incorporado Keras a Tensorflow, veremos que podemos crear aprendizajes personalizados, a través del uso de Tensorflow. En otro notebook presentaremos la manera en que se debe trabaja TensorBoard, pero con PyTorch. "
   ]
  },
  {
   "cell_type": "code",
   "execution_count": null,
   "id": "64962f68",
   "metadata": {},
   "outputs": [],
   "source": []
  }
 ],
 "metadata": {
  "kernelspec": {
   "display_name": "Python 3",
   "language": "python",
   "name": "python3"
  },
  "language_info": {
   "codemirror_mode": {
    "name": "ipython",
    "version": 3
   },
   "file_extension": ".py",
   "mimetype": "text/x-python",
   "name": "python",
   "nbconvert_exporter": "python",
   "pygments_lexer": "ipython3",
   "version": "3.8.10"
  }
 },
 "nbformat": 4,
 "nbformat_minor": 5
}
